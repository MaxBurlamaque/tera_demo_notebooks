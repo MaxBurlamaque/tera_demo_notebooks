{
 "cells": [
  {
   "cell_type": "markdown",
   "id": "2f384223",
   "metadata": {},
   "source": [
    "#### A pesquisa foi feita usando 10 carrinhos reais que ja foram comprados, sorteados randomicamente, mas com cotas de quantidades de produtos, para garantir que ele funciona em todas as situações. A partir disso avaliamos internamente se as recomendações eram: boas(2p), nem boa nem ruim(1p) ou ruins(0p)."
   ]
  },
  {
   "cell_type": "code",
   "execution_count": 93,
   "id": "de405317",
   "metadata": {},
   "outputs": [],
   "source": [
    "import warnings\n",
    "warnings.filterwarnings('ignore')\n",
    "\n",
    "import pandas as pd\n",
    "import seaborn as sns\n",
    "import matplotlib.pyplot as plt"
   ]
  },
  {
   "cell_type": "code",
   "execution_count": 5,
   "id": "1add402c",
   "metadata": {},
   "outputs": [
    {
     "data": {
      "text/html": [
       "<div>\n",
       "<style scoped>\n",
       "    .dataframe tbody tr th:only-of-type {\n",
       "        vertical-align: middle;\n",
       "    }\n",
       "\n",
       "    .dataframe tbody tr th {\n",
       "        vertical-align: top;\n",
       "    }\n",
       "\n",
       "    .dataframe thead th {\n",
       "        text-align: right;\n",
       "    }\n",
       "</style>\n",
       "<table border=\"1\" class=\"dataframe\">\n",
       "  <thead>\n",
       "    <tr style=\"text-align: right;\">\n",
       "      <th></th>\n",
       "      <th>carrinho</th>\n",
       "      <th>id_produtos</th>\n",
       "      <th>desc_produtos</th>\n",
       "      <th>primeira_rec</th>\n",
       "      <th>segunda_rec</th>\n",
       "      <th>terceira_rec</th>\n",
       "      <th>P11</th>\n",
       "      <th>P21</th>\n",
       "      <th>P31</th>\n",
       "      <th>P12</th>\n",
       "      <th>...</th>\n",
       "      <th>P33</th>\n",
       "      <th>P14</th>\n",
       "      <th>P24</th>\n",
       "      <th>P34</th>\n",
       "      <th>P15</th>\n",
       "      <th>P25</th>\n",
       "      <th>P35</th>\n",
       "      <th>P16</th>\n",
       "      <th>P26</th>\n",
       "      <th>P36</th>\n",
       "    </tr>\n",
       "  </thead>\n",
       "  <tbody>\n",
       "    <tr>\n",
       "      <th>0</th>\n",
       "      <td>1938144</td>\n",
       "      <td>[4060515261064, 4059807341744, 4059811961976, ...</td>\n",
       "      <td>['SHORT CB SH SL LEGINK/GRETWO/SHOCYA M', 'TOP...</td>\n",
       "      <td>MEIA CANO MEDIO 3 PARES BLACK/BLACK/BLACK M</td>\n",
       "      <td>LETRA AVULSA MULTCO NT</td>\n",
       "      <td>NR INT CLUB MULTCO NT</td>\n",
       "      <td>1</td>\n",
       "      <td>1</td>\n",
       "      <td>2</td>\n",
       "      <td>1</td>\n",
       "      <td>...</td>\n",
       "      <td>1</td>\n",
       "      <td>1</td>\n",
       "      <td>1</td>\n",
       "      <td>2</td>\n",
       "      <td>1</td>\n",
       "      <td>0</td>\n",
       "      <td>1</td>\n",
       "      <td>0</td>\n",
       "      <td>0</td>\n",
       "      <td>0</td>\n",
       "    </tr>\n",
       "    <tr>\n",
       "      <th>1</th>\n",
       "      <td>3491421</td>\n",
       "      <td>[4064054469653, 4060507958217, 4060507958132, ...</td>\n",
       "      <td>['SHORTS D2M SEASONAL BLACK/WHITE L', 'BERMUDA...</td>\n",
       "      <td>BERMUDA 3 STRIPES BLACK L</td>\n",
       "      <td>KIT  FRESCOBOL -2</td>\n",
       "      <td>BARALHO PERSONALIZADO PAPEL CARTAO 300 GR -2</td>\n",
       "      <td>0</td>\n",
       "      <td>0</td>\n",
       "      <td>2</td>\n",
       "      <td>1</td>\n",
       "      <td>...</td>\n",
       "      <td>2</td>\n",
       "      <td>1</td>\n",
       "      <td>0</td>\n",
       "      <td>2</td>\n",
       "      <td>0</td>\n",
       "      <td>0</td>\n",
       "      <td>1</td>\n",
       "      <td>2</td>\n",
       "      <td>1</td>\n",
       "      <td>1</td>\n",
       "    </tr>\n",
       "    <tr>\n",
       "      <th>2</th>\n",
       "      <td>3255963</td>\n",
       "      <td>[4062065488564, 4062065434844, 4062055082451, ...</td>\n",
       "      <td>['MEIA FOLD CUFF CREW WHITE S', 'MEIA MID CUT ...</td>\n",
       "      <td>CALCA ORIGINALS MULTCO M</td>\n",
       "      <td>MEIA TRICOLOR THIN WHITE M</td>\n",
       "      <td>REGATA CORSET WHITE S</td>\n",
       "      <td>2</td>\n",
       "      <td>2</td>\n",
       "      <td>2</td>\n",
       "      <td>0</td>\n",
       "      <td>...</td>\n",
       "      <td>2</td>\n",
       "      <td>1</td>\n",
       "      <td>2</td>\n",
       "      <td>2</td>\n",
       "      <td>1</td>\n",
       "      <td>2</td>\n",
       "      <td>1</td>\n",
       "      <td>1</td>\n",
       "      <td>1</td>\n",
       "      <td>1</td>\n",
       "    </tr>\n",
       "  </tbody>\n",
       "</table>\n",
       "<p>3 rows × 24 columns</p>\n",
       "</div>"
      ],
      "text/plain": [
       "   carrinho                                        id_produtos  \\\n",
       "0   1938144  [4060515261064, 4059807341744, 4059811961976, ...   \n",
       "1   3491421  [4064054469653, 4060507958217, 4060507958132, ...   \n",
       "2   3255963  [4062065488564, 4062065434844, 4062055082451, ...   \n",
       "\n",
       "                                       desc_produtos  \\\n",
       "0  ['SHORT CB SH SL LEGINK/GRETWO/SHOCYA M', 'TOP...   \n",
       "1  ['SHORTS D2M SEASONAL BLACK/WHITE L', 'BERMUDA...   \n",
       "2  ['MEIA FOLD CUFF CREW WHITE S', 'MEIA MID CUT ...   \n",
       "\n",
       "                                  primeira_rec                 segunda_rec  \\\n",
       "0  MEIA CANO MEDIO 3 PARES BLACK/BLACK/BLACK M      LETRA AVULSA MULTCO NT   \n",
       "1                    BERMUDA 3 STRIPES BLACK L           KIT  FRESCOBOL -2   \n",
       "2                     CALCA ORIGINALS MULTCO M  MEIA TRICOLOR THIN WHITE M   \n",
       "\n",
       "                                   terceira_rec  P11  P21  P31  P12  ...  P33  \\\n",
       "0                         NR INT CLUB MULTCO NT    1    1    2    1  ...    1   \n",
       "1  BARALHO PERSONALIZADO PAPEL CARTAO 300 GR -2    0    0    2    1  ...    2   \n",
       "2                         REGATA CORSET WHITE S    2    2    2    0  ...    2   \n",
       "\n",
       "   P14  P24  P34  P15  P25  P35  P16  P26  P36  \n",
       "0    1    1    2    1    0    1    0    0    0  \n",
       "1    1    0    2    0    0    1    2    1    1  \n",
       "2    1    2    2    1    2    1    1    1    1  \n",
       "\n",
       "[3 rows x 24 columns]"
      ]
     },
     "execution_count": 5,
     "metadata": {},
     "output_type": "execute_result"
    }
   ],
   "source": [
    "df = pd.read_csv(\"dados_pesquisa1.csv\", sep=',')\n",
    "\n",
    "df.head(3)"
   ]
  },
  {
   "cell_type": "code",
   "execution_count": 47,
   "id": "89934450",
   "metadata": {},
   "outputs": [
    {
     "data": {
      "text/html": [
       "<div>\n",
       "<style scoped>\n",
       "    .dataframe tbody tr th:only-of-type {\n",
       "        vertical-align: middle;\n",
       "    }\n",
       "\n",
       "    .dataframe tbody tr th {\n",
       "        vertical-align: top;\n",
       "    }\n",
       "\n",
       "    .dataframe thead th {\n",
       "        text-align: right;\n",
       "    }\n",
       "</style>\n",
       "<table border=\"1\" class=\"dataframe\">\n",
       "  <thead>\n",
       "    <tr style=\"text-align: right;\">\n",
       "      <th></th>\n",
       "      <th>carrinho</th>\n",
       "      <th>id_produtos</th>\n",
       "      <th>desc_produtos</th>\n",
       "      <th>primeira_rec</th>\n",
       "      <th>segunda_rec</th>\n",
       "      <th>terceira_rec</th>\n",
       "      <th>P11</th>\n",
       "      <th>P21</th>\n",
       "      <th>P31</th>\n",
       "      <th>P12</th>\n",
       "      <th>...</th>\n",
       "      <th>P34</th>\n",
       "      <th>P15</th>\n",
       "      <th>P25</th>\n",
       "      <th>P35</th>\n",
       "      <th>P16</th>\n",
       "      <th>P26</th>\n",
       "      <th>P36</th>\n",
       "      <th>REC1</th>\n",
       "      <th>REC2</th>\n",
       "      <th>REC3</th>\n",
       "    </tr>\n",
       "  </thead>\n",
       "  <tbody>\n",
       "    <tr>\n",
       "      <th>0</th>\n",
       "      <td>1938144</td>\n",
       "      <td>[4060515261064, 4059807341744, 4059811961976, ...</td>\n",
       "      <td>['SHORT CB SH SL LEGINK/GRETWO/SHOCYA M', 'TOP...</td>\n",
       "      <td>MEIA CANO MEDIO 3 PARES BLACK/BLACK/BLACK M</td>\n",
       "      <td>LETRA AVULSA MULTCO NT</td>\n",
       "      <td>NR INT CLUB MULTCO NT</td>\n",
       "      <td>1</td>\n",
       "      <td>1</td>\n",
       "      <td>2</td>\n",
       "      <td>1</td>\n",
       "      <td>...</td>\n",
       "      <td>2</td>\n",
       "      <td>1</td>\n",
       "      <td>0</td>\n",
       "      <td>1</td>\n",
       "      <td>0</td>\n",
       "      <td>0</td>\n",
       "      <td>0</td>\n",
       "      <td>5</td>\n",
       "      <td>4</td>\n",
       "      <td>7</td>\n",
       "    </tr>\n",
       "    <tr>\n",
       "      <th>1</th>\n",
       "      <td>3491421</td>\n",
       "      <td>[4064054469653, 4060507958217, 4060507958132, ...</td>\n",
       "      <td>['SHORTS D2M SEASONAL BLACK/WHITE L', 'BERMUDA...</td>\n",
       "      <td>BERMUDA 3 STRIPES BLACK L</td>\n",
       "      <td>KIT  FRESCOBOL -2</td>\n",
       "      <td>BARALHO PERSONALIZADO PAPEL CARTAO 300 GR -2</td>\n",
       "      <td>0</td>\n",
       "      <td>0</td>\n",
       "      <td>2</td>\n",
       "      <td>1</td>\n",
       "      <td>...</td>\n",
       "      <td>2</td>\n",
       "      <td>0</td>\n",
       "      <td>0</td>\n",
       "      <td>1</td>\n",
       "      <td>2</td>\n",
       "      <td>1</td>\n",
       "      <td>1</td>\n",
       "      <td>4</td>\n",
       "      <td>3</td>\n",
       "      <td>10</td>\n",
       "    </tr>\n",
       "    <tr>\n",
       "      <th>2</th>\n",
       "      <td>3255963</td>\n",
       "      <td>[4062065488564, 4062065434844, 4062055082451, ...</td>\n",
       "      <td>['MEIA FOLD CUFF CREW WHITE S', 'MEIA MID CUT ...</td>\n",
       "      <td>CALCA ORIGINALS MULTCO M</td>\n",
       "      <td>MEIA TRICOLOR THIN WHITE M</td>\n",
       "      <td>REGATA CORSET WHITE S</td>\n",
       "      <td>2</td>\n",
       "      <td>2</td>\n",
       "      <td>2</td>\n",
       "      <td>0</td>\n",
       "      <td>...</td>\n",
       "      <td>2</td>\n",
       "      <td>1</td>\n",
       "      <td>2</td>\n",
       "      <td>1</td>\n",
       "      <td>1</td>\n",
       "      <td>1</td>\n",
       "      <td>1</td>\n",
       "      <td>7</td>\n",
       "      <td>10</td>\n",
       "      <td>10</td>\n",
       "    </tr>\n",
       "  </tbody>\n",
       "</table>\n",
       "<p>3 rows × 27 columns</p>\n",
       "</div>"
      ],
      "text/plain": [
       "   carrinho                                        id_produtos  \\\n",
       "0   1938144  [4060515261064, 4059807341744, 4059811961976, ...   \n",
       "1   3491421  [4064054469653, 4060507958217, 4060507958132, ...   \n",
       "2   3255963  [4062065488564, 4062065434844, 4062055082451, ...   \n",
       "\n",
       "                                       desc_produtos  \\\n",
       "0  ['SHORT CB SH SL LEGINK/GRETWO/SHOCYA M', 'TOP...   \n",
       "1  ['SHORTS D2M SEASONAL BLACK/WHITE L', 'BERMUDA...   \n",
       "2  ['MEIA FOLD CUFF CREW WHITE S', 'MEIA MID CUT ...   \n",
       "\n",
       "                                  primeira_rec                 segunda_rec  \\\n",
       "0  MEIA CANO MEDIO 3 PARES BLACK/BLACK/BLACK M      LETRA AVULSA MULTCO NT   \n",
       "1                    BERMUDA 3 STRIPES BLACK L           KIT  FRESCOBOL -2   \n",
       "2                     CALCA ORIGINALS MULTCO M  MEIA TRICOLOR THIN WHITE M   \n",
       "\n",
       "                                   terceira_rec  P11  P21  P31  P12  ...  P34  \\\n",
       "0                         NR INT CLUB MULTCO NT    1    1    2    1  ...    2   \n",
       "1  BARALHO PERSONALIZADO PAPEL CARTAO 300 GR -2    0    0    2    1  ...    2   \n",
       "2                         REGATA CORSET WHITE S    2    2    2    0  ...    2   \n",
       "\n",
       "   P15  P25  P35  P16  P26  P36  REC1  REC2  REC3  \n",
       "0    1    0    1    0    0    0     5     4     7  \n",
       "1    0    0    1    2    1    1     4     3    10  \n",
       "2    1    2    1    1    1    1     7    10    10  \n",
       "\n",
       "[3 rows x 27 columns]"
      ]
     },
     "execution_count": 47,
     "metadata": {},
     "output_type": "execute_result"
    }
   ],
   "source": [
    "df['REC1'] = df['P11'] + df['P12'] + df['P13'] + df['P14'] + df['P15'] + df['P16']\n",
    "df['REC2'] = df['P21'] + df['P22'] + df['P23'] + df['P24'] + df['P25'] + df['P26']\n",
    "df['REC3'] = df['P31'] + df['P32'] + df['P33'] + df['P34'] + df['P35'] + df['P36']\n",
    "df.head(3)"
   ]
  },
  {
   "cell_type": "code",
   "execution_count": 140,
   "id": "59ef7b86",
   "metadata": {},
   "outputs": [
    {
     "name": "stdout",
     "output_type": "stream",
     "text": [
      "[4060515261064, 4059807341744, 4059811961976, 4058027540555, 4060517697724, 4059807898163, 4059811765116, 4059322292132, 4060514204963, 4059807898170]\n",
      "['SHORT CB SH SL LEGINK/GRETWO/SHOCYA M', 'TOP ASK SPT BRA F HIREOR/PRINT L', 'CHUTEIRA PREDATOR 18 4 IN JR CBLACK/FTWWHT/RED 32', 'alphabounce em m    CONAVY/FTWWHT/GREFIV CONAVY/FTWWHT/GREFIV 40', 'CAMISA INTER I ACTRED L', 'CALCA ASK SPT 34T F HIREOR/PRINT L', 'TENIS PROPHERE W TRAMAR/NOBMAR/SOLRED 39', 'MEIA ULT AN HC BLACK/WHITE 3739', 'CAMISETA AI BLACK M', 'CALCA ASK SPT 34T F HIREOR/PRINT M']\n"
     ]
    }
   ],
   "source": [
    "print(df.iloc[0,1])\n",
    "print(df.iloc[0,2])"
   ]
  },
  {
   "cell_type": "code",
   "execution_count": 84,
   "id": "4d4ecc3d",
   "metadata": {},
   "outputs": [],
   "source": [
    "modelo_pesquisa = df.iloc[:10,6:24]\n",
    "top_produtos = df.iloc[10:,6:24]"
   ]
  },
  {
   "cell_type": "code",
   "execution_count": 133,
   "id": "dbec1b95",
   "metadata": {},
   "outputs": [
    {
     "name": "stdout",
     "output_type": "stream",
     "text": [
      "360\n",
      "246\n",
      "197\n"
     ]
    }
   ],
   "source": [
    "print(360)#pontos disponiveis na pesquisa\n",
    "print(modelo_pesquisa.sum().sum())\n",
    "print(top_produtos.sum().sum())"
   ]
  },
  {
   "cell_type": "code",
   "execution_count": 167,
   "id": "85f7e777",
   "metadata": {},
   "outputs": [
    {
     "data": {
      "image/png": "[encoded data removed]",
      "text/plain": [
       "<Figure size 640x480 with 1 Axes>"
      ]
     },
     "metadata": {},
     "output_type": "display_data"
    }
   ],
   "source": [
    "dados_sat = [[360, 'total'],[246,'modelo'],[197, 'top5']]\n",
    "\n",
    "sat = pd.DataFrame(dados_sat, columns=['nota_acumulada', 'model'])\n",
    "\n",
    "sns.barplot(data=sat, x=\"model\", y=\"nota_acumulada\")\n",
    "\n",
    "plt.show()"
   ]
  },
  {
   "cell_type": "code",
   "execution_count": 139,
   "id": "19c6dc70",
   "metadata": {},
   "outputs": [
    {
     "name": "stdout",
     "output_type": "stream",
     "text": [
      "Porcentagem de satisfação total do modelo: 68.33%\n",
      "Porcentagem de satisfação total dos melhores produtos: 54.72%\n"
     ]
    }
   ],
   "source": [
    "print(\"Porcentagem de satisfação total do modelo: %.2f%%\" % (246/(360/100)))\n",
    "print(\"Porcentagem de satisfação total dos melhores produtos: %.2f%%\" % (197/(360/100)))"
   ]
  },
  {
   "cell_type": "code",
   "execution_count": 145,
   "id": "e6856ad9",
   "metadata": {},
   "outputs": [
    {
     "data": {
      "text/html": [
       "<div>\n",
       "<style scoped>\n",
       "    .dataframe tbody tr th:only-of-type {\n",
       "        vertical-align: middle;\n",
       "    }\n",
       "\n",
       "    .dataframe tbody tr th {\n",
       "        vertical-align: top;\n",
       "    }\n",
       "\n",
       "    .dataframe thead th {\n",
       "        text-align: right;\n",
       "    }\n",
       "</style>\n",
       "<table border=\"1\" class=\"dataframe\">\n",
       "  <thead>\n",
       "    <tr style=\"text-align: right;\">\n",
       "      <th></th>\n",
       "      <th>RECOMENDACAO</th>\n",
       "      <th>PONTUACAO</th>\n",
       "    </tr>\n",
       "  </thead>\n",
       "  <tbody>\n",
       "    <tr>\n",
       "      <th>0</th>\n",
       "      <td>REC1</td>\n",
       "      <td>88</td>\n",
       "    </tr>\n",
       "    <tr>\n",
       "      <th>1</th>\n",
       "      <td>REC2</td>\n",
       "      <td>77</td>\n",
       "    </tr>\n",
       "    <tr>\n",
       "      <th>2</th>\n",
       "      <td>REC3</td>\n",
       "      <td>81</td>\n",
       "    </tr>\n",
       "  </tbody>\n",
       "</table>\n",
       "</div>"
      ],
      "text/plain": [
       "  RECOMENDACAO  PONTUACAO\n",
       "0         REC1         88\n",
       "1         REC2         77\n",
       "2         REC3         81"
      ]
     },
     "execution_count": 145,
     "metadata": {},
     "output_type": "execute_result"
    }
   ],
   "source": [
    "modelo_rec = pd.DataFrame({'RECOMENDACAO':df.iloc[:10,24:].sum().index, 'PONTUACAO':df.iloc[:10,24:].sum().values})\n",
    "modelo_rec"
   ]
  },
  {
   "cell_type": "code",
   "execution_count": 146,
   "id": "3bbe228d",
   "metadata": {},
   "outputs": [
    {
     "data": {
      "text/html": [
       "<div>\n",
       "<style scoped>\n",
       "    .dataframe tbody tr th:only-of-type {\n",
       "        vertical-align: middle;\n",
       "    }\n",
       "\n",
       "    .dataframe tbody tr th {\n",
       "        vertical-align: top;\n",
       "    }\n",
       "\n",
       "    .dataframe thead th {\n",
       "        text-align: right;\n",
       "    }\n",
       "</style>\n",
       "<table border=\"1\" class=\"dataframe\">\n",
       "  <thead>\n",
       "    <tr style=\"text-align: right;\">\n",
       "      <th></th>\n",
       "      <th>RECOMENDACAO</th>\n",
       "      <th>PONTUACAO</th>\n",
       "    </tr>\n",
       "  </thead>\n",
       "  <tbody>\n",
       "    <tr>\n",
       "      <th>0</th>\n",
       "      <td>REC1</td>\n",
       "      <td>87</td>\n",
       "    </tr>\n",
       "    <tr>\n",
       "      <th>1</th>\n",
       "      <td>REC2</td>\n",
       "      <td>27</td>\n",
       "    </tr>\n",
       "    <tr>\n",
       "      <th>2</th>\n",
       "      <td>REC3</td>\n",
       "      <td>83</td>\n",
       "    </tr>\n",
       "  </tbody>\n",
       "</table>\n",
       "</div>"
      ],
      "text/plain": [
       "  RECOMENDACAO  PONTUACAO\n",
       "0         REC1         87\n",
       "1         REC2         27\n",
       "2         REC3         83"
      ]
     },
     "execution_count": 146,
     "metadata": {},
     "output_type": "execute_result"
    }
   ],
   "source": [
    "top_produtos_rec = pd.DataFrame({'RECOMENDACAO':df.iloc[10:,24:].sum().index, 'PONTUACAO':df.iloc[10:,24:].sum().values})\n",
    "top_produtos_rec"
   ]
  },
  {
   "cell_type": "code",
   "execution_count": 166,
   "id": "f4164eae",
   "metadata": {},
   "outputs": [
    {
     "data": {
      "image/png": "[encoded data removed]",
      "text/plain": [
       "<Figure size 1600x400 with 2 Axes>"
      ]
     },
     "metadata": {},
     "output_type": "display_data"
    }
   ],
   "source": [
    "plt.figure(figsize=(16,4))\n",
    "plt.subplot(141)\n",
    "plt.title(\"modelo\")\n",
    "sns.barplot(data=modelo_rec, x=\"RECOMENDACAO\", y=\"PONTUACAO\")\n",
    "plt.subplot(142)\n",
    "plt.title(\"top_produtos\")\n",
    "sns.barplot(data=top_produtos_rec, x=\"RECOMENDACAO\", y=\"PONTUACAO\")\n",
    "plt.show()"
   ]
  },
  {
   "cell_type": "code",
   "execution_count": 190,
   "id": "612fe9a4",
   "metadata": {},
   "outputs": [
    {
     "name": "stdout",
     "output_type": "stream",
     "text": [
      "modelo | top_produtos\n",
      "29     | 58\n",
      "56     | 47\n",
      "95     | 75\n"
     ]
    }
   ],
   "source": [
    "print(\"modelo | top_produtos\")\n",
    "print((modelo_pesquisa == 0).astype(int).sum(axis=1).sum(), '    |', (top_produtos == 0).astype(int).sum(axis=1).sum())\n",
    "print((modelo_pesquisa == 1).astype(int).sum(axis=1).sum(), '    |', (top_produtos == 1).astype(int).sum(axis=1).sum())\n",
    "print((modelo_pesquisa == 2).astype(int).sum(axis=1).sum(), '    |', (top_produtos == 2).astype(int).sum(axis=1).sum())"
   ]
  },
  {
   "cell_type": "code",
   "execution_count": 182,
   "id": "751b59eb",
   "metadata": {},
   "outputs": [
    {
     "data": {
      "image/png": "[encoded data removed]",
      "text/plain": [
       "<Figure size 2000x400 with 2 Axes>"
      ]
     },
     "metadata": {},
     "output_type": "display_data"
    }
   ],
   "source": [
    "dados_picados = [[0, 29, 58],[1, 56, 47],[2, 95, 75]]\n",
    "\n",
    "picados = pd.DataFrame(dados_picados, columns=['NOTAS', 'MODELO_PESQUISA', 'TOP_PRODUTOS'])\n",
    "picados\n",
    "\n",
    "plt.figure(figsize=(20,4))\n",
    "plt.subplot(141)\n",
    "plt.ylim(0, 100)\n",
    "plt.title(\"modelo_pesquisa\")\n",
    "sns.barplot(data=picados, x=\"NOTAS\", y=\"MODELO_PESQUISA\")\n",
    "plt.subplot(142)\n",
    "plt.ylim(0, 100)\n",
    "plt.title(\"top_produtos\")\n",
    "sns.barplot(data=picados, x=\"NOTAS\", y=\"TOP_PRODUTOS\")\n",
    "plt.show()"
   ]
  },
  {
   "cell_type": "markdown",
   "id": "039c4584",
   "metadata": {},
   "source": [
    "### Desvantagens do modelo de produtos mais comprados, com a reincidência de compras o cliente não verá mais novidades do que comprar"
   ]
  },
  {
   "cell_type": "code",
   "execution_count": 201,
   "id": "37fdfe7d",
   "metadata": {},
   "outputs": [],
   "source": [
    "people = pd.read_csv(\"people.csv\")"
   ]
  },
  {
   "cell_type": "code",
   "execution_count": 205,
   "id": "64d129f4",
   "metadata": {},
   "outputs": [
    {
     "name": "stdout",
     "output_type": "stream",
     "text": [
      "373516\n",
      "178688\n"
     ]
    }
   ],
   "source": [
    "print(people[people['quantidadePedidos'] == 1].shape[0])\n",
    "print(people[people['quantidadePedidos'] > 1].shape[0])"
   ]
  },
  {
   "cell_type": "code",
   "execution_count": 209,
   "id": "b735c531",
   "metadata": {},
   "outputs": [
    {
     "name": "stdout",
     "output_type": "stream",
     "text": [
      "373516\n",
      "608221\n"
     ]
    }
   ],
   "source": [
    "print(people[people['quantidadePedidos'] == 1]['quantidadePedidos'].sum())\n",
    "print(people[people['quantidadePedidos'] > 1]['quantidadePedidos'].sum())"
   ]
  },
  {
   "cell_type": "code",
   "execution_count": 210,
   "id": "f1ca98b6",
   "metadata": {},
   "outputs": [
    {
     "data": {
      "image/png": "[encoded data removed]",
      "text/plain": [
       "<Figure size 640x480 with 1 Axes>"
      ]
     },
     "metadata": {},
     "output_type": "display_data"
    }
   ],
   "source": [
    "dados_pessoas = [[False, 373516, 373516],[True, 178688, 608221]]\n",
    "\n",
    "pessoas = pd.DataFrame(dados_pessoas, columns=['REINCIDENCIA', 'PESSOAS', 'PEDIDOS'])\n",
    "\n",
    "sns.barplot(data=pessoas, x=\"REINCIDENCIA\", y=\"PESSOAS\")\n",
    "\n",
    "plt.show()"
   ]
  },
  {
   "cell_type": "code",
   "execution_count": 213,
   "id": "773428e1",
   "metadata": {},
   "outputs": [
    {
     "name": "stdout",
     "output_type": "stream",
     "text": [
      "Porcentagem de clientes de 1 pedido apenas: 67.64%\n",
      "Porcentagem de clientes com mais de 1 pedido: 32.36%\n"
     ]
    }
   ],
   "source": [
    "print(\"Porcentagem de clientes de 1 pedido apenas: %.2f%%\" % (373516 / ((373516 + 178688)/100)))\n",
    "print(\"Porcentagem de clientes com mais de 1 pedido: %.2f%%\" % (178688 / ((373516 + 178688)/100)))"
   ]
  },
  {
   "cell_type": "code",
   "execution_count": 211,
   "id": "b6e69fcd",
   "metadata": {},
   "outputs": [
    {
     "data": {
      "image/png": "[encoded data removed]",
      "text/plain": [
       "<Figure size 640x480 with 1 Axes>"
      ]
     },
     "metadata": {},
     "output_type": "display_data"
    }
   ],
   "source": [
    "sns.barplot(data=pessoas, x=\"REINCIDENCIA\", y=\"PEDIDOS\")\n",
    "\n",
    "plt.show()"
   ]
  },
  {
   "cell_type": "code",
   "execution_count": 214,
   "id": "72705c17",
   "metadata": {},
   "outputs": [
    {
     "name": "stdout",
     "output_type": "stream",
     "text": [
      "Porcentagem de pedidos por clientes de 1 pedido apenas: 38.05%\n",
      "Porcentagem de pedidos por clientes com mais de 1 pedido: 61.95%\n"
     ]
    }
   ],
   "source": [
    "print(\"Porcentagem de pedidos por clientes de 1 pedido apenas: %.2f%%\" % (373516 / ((373516 + 608221)/100)))\n",
    "print(\"Porcentagem de pedidos por clientes com mais de 1 pedido: %.2f%%\" % (608221 / ((373516 + 608221)/100)))"
   ]
  }
 ],
 "metadata": {
  "kernelspec": {
   "display_name": "Python 3 (ipykernel)",
   "language": "python",
   "name": "python3"
  },
  "language_info": {
   "codemirror_mode": {
    "name": "ipython",
    "version": 3
   },
   "file_extension": ".py",
   "mimetype": "text/x-python",
   "name": "python",
   "nbconvert_exporter": "python",
   "pygments_lexer": "ipython3",
   "version": "3.9.13"
  }
 },
 "nbformat": 4,
 "nbformat_minor": 5
}
